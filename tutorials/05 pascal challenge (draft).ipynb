{
 "cells": [
  {
   "cell_type": "markdown",
   "metadata": {},
   "source": [
    "# Pascal segmentation"
   ]
  },
  {
   "cell_type": "markdown",
   "metadata": {},
   "source": [
    "The Pascal VOC challenge is a very popular dataset for building and evaluating algorithms for image classification, object detection, and segmentation."
   ]
  },
  {
   "cell_type": "markdown",
   "metadata": {},
   "source": [
    "Classes:\n",
    "`background`, `aeroplane`, `bicycle`, `bird`, `boat`, `bottle`, `bus`, `car`, `cat`, `chair`, `cow`, `diningtable`, `dog`, `horse`, `motorbike`, `person`, `pottedplant`, `sheep`, `sofa`, `train`, `tvmonitor`\n",
    "\n",
    "255 is the ignore label that marks pixels excluded from learning and\n",
    "evaluation by the PASCAL VOC ground truth."
   ]
  },
  {
   "cell_type": "markdown",
   "metadata": {},
   "source": [
    "#### 1. Necessary imports"
   ]
  },
  {
   "cell_type": "code",
   "execution_count": null,
   "metadata": {},
   "outputs": [],
   "source": [
    "import sys\n",
    "\n",
    "import PIL\n",
    "import numpy as np\n",
    "from matplotlib import pyplot as plt\n",
    "%matplotlib inline\n",
    "\n",
    "sys.path.append('../batchflow')\n",
    "from batchflow import B, V, F, R, P, W\n",
    "from batchflow.opensets import PascalSegmentation\n",
    "from batchflow.models.torch import TorchModel, UNet\n",
    "from batchflow.models.metrics import ClassificationMetrics\n",
    "\n",
    "plt.style.use('seaborn-poster')\n",
    "plt.style.use('ggplot')"
   ]
  },
  {
   "cell_type": "markdown",
   "metadata": {},
   "source": [
    "#### 2. Load data"
   ]
  },
  {
   "cell_type": "code",
   "execution_count": null,
   "metadata": {},
   "outputs": [],
   "source": [
    "ds = PascalSegmentation(bar=True)"
   ]
  },
  {
   "cell_type": "markdown",
   "metadata": {},
   "source": [
    "Let's check few images"
   ]
  },
  {
   "cell_type": "code",
   "execution_count": null,
   "metadata": {},
   "outputs": [],
   "source": [
    "# We should construct batch and get images.\n",
    "batch = ds.train.p.next_batch(16)\n",
    "images = batch.images\n",
    "labels = batch.labels"
   ]
  },
  {
   "cell_type": "code",
   "execution_count": null,
   "metadata": {},
   "outputs": [],
   "source": [
    "images[2]"
   ]
  },
  {
   "cell_type": "code",
   "execution_count": null,
   "metadata": {},
   "outputs": [],
   "source": [
    "labels[2]"
   ]
  },
  {
   "cell_type": "markdown",
   "metadata": {},
   "source": [
    "#### 3. Define training pipeline"
   ]
  },
  {
   "cell_type": "code",
   "execution_count": null,
   "metadata": {},
   "outputs": [],
   "source": [
    "NUM_CLASSES = 22\n",
    "model_config = {\n",
    "    'inputs/targets/classes': NUM_CLASSES,\n",
    "}"
   ]
  },
  {
   "cell_type": "code",
   "execution_count": null,
   "metadata": {},
   "outputs": [],
   "source": [
    "# Define constants\n",
    "BATCH_SIZE = 16\n",
    "N_EPOCHS = 1\n",
    "SIZE = (160, 160)"
   ]
  },
  {
   "cell_type": "code",
   "execution_count": null,
   "metadata": {},
   "outputs": [],
   "source": [
    "def process_mask(x):\n",
    "    x = np.squeeze(x)\n",
    "    np.place(x, x==255, 21)\n",
    "    return x"
   ]
  },
  {
   "cell_type": "code",
   "execution_count": null,
   "metadata": {},
   "outputs": [],
   "source": [
    "# Define actions for training\n",
    "train_ppl = (ds.train.p\n",
    "    .init_model('dynamic', UNet, 'model', config=model_config)\n",
    "    .init_variable('loss', [])\n",
    "    .resize(size=SIZE, src='images', dst='images')\n",
    "    .resize(size=SIZE, src='labels', dst='labels')\n",
    "    .to_array(channels='first', src='images', dst='images')\n",
    "    .to_array(channels='first', src='labels', dst='labels')\n",
    "    .apply_transform_all(src='labels', dst='labels', func=process_mask)\n",
    "    .train_model('model', B('images'), B('labels'), fetches='loss', save_to=V('loss', mode='a'))\n",
    "    .run_later(BATCH_SIZE, n_epochs=10, drop_last=True, shuffle=42, bar='n')\n",
    ")"
   ]
  },
  {
   "cell_type": "code",
   "execution_count": null,
   "metadata": {},
   "outputs": [],
   "source": [
    "# Here we will run it\n",
    "train_ppl.run()"
   ]
  },
  {
   "cell_type": "markdown",
   "metadata": {},
   "source": [
    "#### 4. ... and test pipeline"
   ]
  },
  {
   "cell_type": "code",
   "execution_count": null,
   "metadata": {},
   "outputs": [],
   "source": [
    "# Define actions for test\n",
    "test_ppl = (ds.test.p\n",
    "    .import_model('model', train_ppl)\n",
    "    .init_variable('metrics', None)\n",
    "    .resize(size=SIZE, src='images', dst='images')\n",
    "    .resize(size=SIZE, src='labels', dst='labels')\n",
    "    .to_array(channels='first', src='images', dst='images2')\n",
    "    .to_array(channels='first', src='labels', dst='labels2')\n",
    "    .apply_transform_all(src='labels', dst='labels', func=process_mask)\n",
    "    .predict_model('model', B('images2'), fetches='predictions', save_to=B('predictions'))\n",
    "    .gather_metrics('classification', B('labels2'), B('predictions'), axis=1, fmt='logits',\n",
    "                    num_classes=NUM_CLASSES, save_to=V('metrics', mode='u'))\n",
    ")"
   ]
  },
  {
   "cell_type": "code",
   "execution_count": null,
   "metadata": {},
   "outputs": [],
   "source": [
    "test_ppl.run(4, drop_last=False, bar=True)"
   ]
  },
  {
   "cell_type": "markdown",
   "metadata": {},
   "source": [
    "#### 5. Evaluate metrics"
   ]
  },
  {
   "cell_type": "code",
   "execution_count": null,
   "metadata": {},
   "outputs": [],
   "source": [
    "f1_scores = test_ppl.v('metrics').evaluate('f1_score', agg='mean', multiclass=None)\n",
    "mean_f1_score = test_ppl.v('metrics').evaluate('f1_score')\n",
    "\n",
    "mean_f1_score"
   ]
  },
  {
   "cell_type": "markdown",
   "metadata": {},
   "source": [
    "#### Task:\n",
    "\n",
    "Try to modify the model and training process to get better `mean_f1_score`."
   ]
  },
  {
   "cell_type": "markdown",
   "metadata": {},
   "source": [
    "#### What you can change?\n",
    "For example, you can add additional keys into dictionary and then try to vary them:"
   ]
  },
  {
   "cell_type": "markdown",
   "metadata": {},
   "source": [
    "```\n",
    "model_config = {\n",
    "                'inputs/targets/classes': NUM_CLASSES,\n",
    "                'body/encoder/num_stages': 4,\n",
    "                'body/decoder/blocks/filters': [128, 64, 64, 32],\n",
    "                'body/encoder/blocks/filters': [32, 64, 64, 128],\n",
    "                'body/embedding/filters': 128,\n",
    "                'head': dict(layout='c', filters=NUM_CLASSES, kernel_size=1),\n",
    "    \n",
    "                'optimizer': ('Adam', {'lr': 0.001}),\n",
    "            }\n",
    "```"
   ]
  }
 ],
 "metadata": {
  "kernelspec": {
   "display_name": "Python 3",
   "language": "python",
   "name": "python3"
  },
  "language_info": {
   "codemirror_mode": {
    "name": "ipython",
    "version": 3
   },
   "file_extension": ".py",
   "mimetype": "text/x-python",
   "name": "python",
   "nbconvert_exporter": "python",
   "pygments_lexer": "ipython3",
   "version": "3.6.8"
  }
 },
 "nbformat": 4,
 "nbformat_minor": 4
}
